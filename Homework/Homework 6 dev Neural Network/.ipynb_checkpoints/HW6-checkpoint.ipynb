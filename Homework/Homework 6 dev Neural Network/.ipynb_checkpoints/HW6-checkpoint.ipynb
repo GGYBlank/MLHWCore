{
 "cells": [
  {
   "cell_type": "code",
   "execution_count": null,
   "id": "199258e1-167b-4a81-aff7-d2c29f160ff9",
   "metadata": {},
   "outputs": [],
   "source": [
    "import torch\n",
    "import cudnn\n",
    "import \n",
    "import torch\n",
    "import torch.nn as nn\n",
    "import pandas as pd\n",
    "from torch.utils.data import Dataset, DataLoader\n",
    "import torch.nn.functional as F\n",
    "import torchvision.transforms as transforms\n",
    "import torchvision\n",
    "import time"
   ]
  }
 ],
 "metadata": {
  "kernelspec": {
   "display_name": "Python 3 (ipykernel)",
   "language": "python",
   "name": "python3"
  },
  "language_info": {
   "codemirror_mode": {
    "name": "ipython",
    "version": 3
   },
   "file_extension": ".py",
   "mimetype": "text/x-python",
   "name": "python",
   "nbconvert_exporter": "python",
   "pygments_lexer": "ipython3",
   "version": "3.11.5"
  }
 },
 "nbformat": 4,
 "nbformat_minor": 5
}
