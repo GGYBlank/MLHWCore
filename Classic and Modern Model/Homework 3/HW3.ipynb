{
  "nbformat": 4,
  "nbformat_minor": 0,
  "metadata": {
    "colab": {
      "provenance": []
    },
    "kernelspec": {
      "name": "python3",
      "display_name": "Python 3"
    },
    "language_info": {
      "name": "python"
    }
  },
  "cells": [
    {
      "cell_type": "markdown",
      "source": [
        "Data Import"
      ],
      "metadata": {
        "id": "d7XOs93r8PPc"
      }
    },
    {
      "cell_type": "code",
      "execution_count": null,
      "metadata": {
        "id": "YXNzb7FPEH4L",
        "colab": {
          "base_uri": "https://localhost:8080/"
        },
        "outputId": "ad50e274-4e22-4a84-af04-cade49d0b386"
      },
      "outputs": [
        {
          "output_type": "stream",
          "name": "stdout",
          "text": [
            "Drive already mounted at /content/drive; to attempt to forcibly remount, call drive.mount(\"/content/drive\", force_remount=True).\n"
          ]
        }
      ],
      "source": [
        "import numpy as np\n",
        "import matplotlib.pyplot as plt\n",
        "import pandas as pd\n",
        "from sklearn.model_selection import train_test_split\n",
        "from sklearn.preprocessing import StandardScaler\n",
        "from sklearn.linear_model import LogisticRegression\n",
        "from sklearn.metrics import accuracy_score, precision_score, recall_score, f1_score, confusion_matrix\n",
        "import seaborn as sns\n",
        "from google.colab import drive\n",
        "\n",
        "drive.mount('/content/drive')\n"
      ]
    },
    {
      "cell_type": "code",
      "source": [
        "file_path = '/content/drive/My Drive/IntroML/content/diabetes.csv'\n",
        "dataset = pd.read_csv(file_path)\n",
        "\n",
        "# Assume the target column for diabetes is named 'Outcome' (this is the typical name in the Pima Indians Diabetes dataset)\n",
        "X = dataset.drop('Outcome', axis=1)\n",
        "y = dataset['Outcome']"
      ],
      "metadata": {
        "id": "C2MRRtB_8nas"
      },
      "execution_count": null,
      "outputs": []
    },
    {
      "cell_type": "markdown",
      "source": [
        "# Problem 1"
      ],
      "metadata": {
        "id": "wo_LrMBJF3Bz"
      }
    },
    {
      "cell_type": "markdown",
      "source": [
        "Using the diabetes dataset, build a logistic regression binary classifier for positive diabetes. Please use 80% and 20% split between training and evaluation (test). Make sure to perform proper scaling and standardization before your training. Report the classification accuracy over iterations. Also, report your results, including accuracy, precision, and recall, FI score. At the end, plot the confusion matrix representing your binary classifier."
      ],
      "metadata": {
        "id": "CUKE4DmeF_Wr"
      }
    },
    {
      "cell_type": "markdown",
      "source": [
        "Data Splitting"
      ],
      "metadata": {
        "id": "vQgPW8n-JkJ-"
      }
    },
    {
      "cell_type": "code",
      "source": [
        "X_train, X_test, y_train, y_test = train_test_split(X, y, test_size=0.20, random_state=42)"
      ],
      "metadata": {
        "id": "nzv5MdsWIQgj"
      },
      "execution_count": null,
      "outputs": []
    },
    {
      "cell_type": "markdown",
      "source": [
        "Scaling and Standardization:"
      ],
      "metadata": {
        "id": "ocNC0_AoJoK3"
      }
    },
    {
      "cell_type": "code",
      "source": [
        "scaler = StandardScaler()\n",
        "X_train_scaled = scaler.fit_transform(X_train)\n",
        "X_test_scaled = scaler.transform(X_test)"
      ],
      "metadata": {
        "id": "UzlcPfs_JroT"
      },
      "execution_count": null,
      "outputs": []
    },
    {
      "cell_type": "markdown",
      "source": [
        "Model Training & Evaluating Accuracy over Iterations:"
      ],
      "metadata": {
        "id": "2PPudwK7JtWf"
      }
    },
    {
      "cell_type": "code",
      "source": [
        "# Initialize and train the model\n",
        "model = LogisticRegression(max_iter=1000)\n",
        "model.fit(X_train_scaled, y_train)\n",
        "\n",
        "# Store accuracy over iterations\n",
        "accuracies = []\n",
        "\n",
        "for i in range(1, 1001, 50):  # for every 50 iterations up to 1000\n",
        "    clf = LogisticRegression(max_iter=i)\n",
        "    clf.fit(X_train_scaled, y_train)\n",
        "    y_pred = clf.predict(X_test_scaled)\n",
        "    accuracies.append(accuracy_score(y_test, y_pred))\n",
        "\n",
        "# Plot accuracy over iterations\n",
        "plt.plot(range(1, 1001, 50), accuracies)\n",
        "plt.xlabel('Iterations')\n",
        "plt.ylabel('Accuracy')\n",
        "plt.title('Accuracy over Iterations')\n",
        "plt.show()"
      ],
      "metadata": {
        "colab": {
          "base_uri": "https://localhost:8080/",
          "height": 611
        },
        "id": "eisJkEAAJwJU",
        "outputId": "d721a79d-2734-4c93-d8fc-a368df309347"
      },
      "execution_count": null,
      "outputs": [
        {
          "output_type": "stream",
          "name": "stderr",
          "text": [
            "/usr/local/lib/python3.10/dist-packages/sklearn/linear_model/_logistic.py:458: ConvergenceWarning: lbfgs failed to converge (status=1):\n",
            "STOP: TOTAL NO. of ITERATIONS REACHED LIMIT.\n",
            "\n",
            "Increase the number of iterations (max_iter) or scale the data as shown in:\n",
            "    https://scikit-learn.org/stable/modules/preprocessing.html\n",
            "Please also refer to the documentation for alternative solver options:\n",
            "    https://scikit-learn.org/stable/modules/linear_model.html#logistic-regression\n",
            "  n_iter_i = _check_optimize_result(\n"
          ]
        },
        {
          "output_type": "display_data",
          "data": {
            "text/plain": [
              "<Figure size 640x480 with 1 Axes>"
            ],
            "image/png": "[encoded data removed]"
          },
          "metadata": {}
        }
      ]
    },
    {
      "cell_type": "markdown",
      "source": [
        "Model Evaluation:"
      ],
      "metadata": {
        "id": "KsQuPaD8JyLo"
      }
    },
    {
      "cell_type": "code",
      "source": [
        "# Use the model with 1000 iterations for evaluation\n",
        "y_pred = model.predict(X_test_scaled)\n",
        "\n",
        "accuracy = accuracy_score(y_test, y_pred)\n",
        "precision = precision_score(y_test, y_pred)\n",
        "recall = recall_score(y_test, y_pred)\n",
        "f1 = f1_score(y_test, y_pred)\n",
        "\n",
        "print(f\"Accuracy: {accuracy}\")\n",
        "print(f\"Precision: {precision}\")\n",
        "print(f\"Recall: {recall}\")\n",
        "print(f\"F1 Score: {f1}\")"
      ],
      "metadata": {
        "id": "AsBsa-4EJ0wY",
        "colab": {
          "base_uri": "https://localhost:8080/"
        },
        "outputId": "2721d5c3-e49a-47c8-d3e0-cf5bf5004817"
      },
      "execution_count": null,
      "outputs": [
        {
          "output_type": "stream",
          "name": "stdout",
          "text": [
            "Accuracy: 0.7532467532467533\n",
            "Precision: 0.6491228070175439\n",
            "Recall: 0.6727272727272727\n",
            "F1 Score: 0.6607142857142858\n"
          ]
        }
      ]
    },
    {
      "cell_type": "markdown",
      "source": [
        "Plotting the Confusion Matrix:"
      ],
      "metadata": {
        "id": "Cm-g0wYJJ3F7"
      }
    },
    {
      "cell_type": "code",
      "source": [
        "# Compute the confusion matrix\n",
        "cm = confusion_matrix(y_test, y_pred)\n",
        "\n",
        "# Plot the confusion matrix\n",
        "plt.figure(figsize=(8,6))\n",
        "sns.heatmap(cm, annot=True, fmt='g', cmap='Blues', xticklabels=['Negative', 'Positive'], yticklabels=['Negative', 'Positive'])\n",
        "plt.xlabel('Predicted')\n",
        "plt.ylabel('True')\n",
        "plt.title('Confusion Matrix')\n",
        "plt.show()"
      ],
      "metadata": {
        "id": "Mff8Ntn7J5hU",
        "colab": {
          "base_uri": "https://localhost:8080/",
          "height": 564
        },
        "outputId": "ecdb2e8d-e305-4822-f93e-f45429707a17"
      },
      "execution_count": null,
      "outputs": [
        {
          "output_type": "display_data",
          "data": {
            "text/plain": [
              "<Figure size 800x600 with 2 Axes>"
            ],
            "image/png": "[encoded data removed]"
          },
          "metadata": {}
        }
      ]
    },
    {
      "cell_type": "markdown",
      "source": [
        "# Problem 2"
      ],
      "metadata": {
        "id": "GYCiBq4jLTeu"
      }
    },
    {
      "cell_type": "markdown",
      "source": [
        "a. Use the cancer dataset to build a logistic regression model to classify the type of cancer (Malignant vs. benign). First, create a logistic regression that takes all 30 input features for classification. Please use 80% and 20% split between training and evaluation (test). Make sure to perform proper scaling and standardization before your training. Report your classification accuracy over iterations. Also, report your results, including accuracy, precision, recall, and F1 score. At the end, plot the confusion matrix representing your binary classifier.\n",
        "\n",
        "b. How about adding a weight penalty here, considering the number of parameters? Add the weight penalty repeat the training, and report the results."
      ],
      "metadata": {
        "id": "AwtVAKX1LchM"
      }
    },
    {
      "cell_type": "markdown",
      "source": [
        "Import Data"
      ],
      "metadata": {
        "id": "jHsBcx9CMy6O"
      }
    },
    {
      "cell_type": "code",
      "source": [
        "import numpy as np\n",
        "import matplotlib.pyplot as plt\n",
        "import pandas as pd\n",
        "\n",
        "file_path = '/content/drive/My Drive/IntroML/content/cancer.csv'\n",
        "cancer_dataset = pd.read_csv(file_path)\n"
      ],
      "metadata": {
        "id": "7g1-H_HAIsc5"
      },
      "execution_count": null,
      "outputs": []
    },
    {
      "cell_type": "markdown",
      "source": [
        "fixing the DATA"
      ],
      "metadata": {
        "id": "fMMRz_QNJlsF"
      }
    },
    {
      "cell_type": "code",
      "source": [
        "print(cancer_dataset.head())\n",
        "print(\"\\nColumn names:\", cancer_dataset.columns)\n",
        "print(\"\\nShape of the dataframe:\", cancer_dataset.shape)\n",
        "if 'Unnamed: 32' in cancer_dataset.columns:\n",
        "    cancer_dataset = cancer_dataset.drop('Unnamed: 32', axis=1)"
      ],
      "metadata": {
        "colab": {
          "base_uri": "https://localhost:8080/"
        },
        "id": "GWvPkqbCI-f5",
        "outputId": "9e2db01f-a962-4af4-add6-423280b7c98b"
      },
      "execution_count": null,
      "outputs": [
        {
          "output_type": "stream",
          "name": "stdout",
          "text": [
            "         id diagnosis  radius_mean  texture_mean  perimeter_mean  area_mean  \\\n",
            "0    842302         M        17.99         10.38          122.80     1001.0   \n",
            "1    842517         M        20.57         17.77          132.90     1326.0   \n",
            "2  84300903         M        19.69         21.25          130.00     1203.0   \n",
            "3  84348301         M        11.42         20.38           77.58      386.1   \n",
            "4  84358402         M        20.29         14.34          135.10     1297.0   \n",
            "\n",
            "   smoothness_mean  compactness_mean  concavity_mean  concave points_mean  \\\n",
            "0          0.11840           0.27760          0.3001              0.14710   \n",
            "1          0.08474           0.07864          0.0869              0.07017   \n",
            "2          0.10960           0.15990          0.1974              0.12790   \n",
            "3          0.14250           0.28390          0.2414              0.10520   \n",
            "4          0.10030           0.13280          0.1980              0.10430   \n",
            "\n",
            "   ...  radius_worst  texture_worst  perimeter_worst  area_worst  \\\n",
            "0  ...         25.38          17.33           184.60      2019.0   \n",
            "1  ...         24.99          23.41           158.80      1956.0   \n",
            "2  ...         23.57          25.53           152.50      1709.0   \n",
            "3  ...         14.91          26.50            98.87       567.7   \n",
            "4  ...         22.54          16.67           152.20      1575.0   \n",
            "\n",
            "   smoothness_worst  compactness_worst  concavity_worst  concave points_worst  \\\n",
            "0            0.1622             0.6656           0.7119                0.2654   \n",
            "1            0.1238             0.1866           0.2416                0.1860   \n",
            "2            0.1444             0.4245           0.4504                0.2430   \n",
            "3            0.2098             0.8663           0.6869                0.2575   \n",
            "4            0.1374             0.2050           0.4000                0.1625   \n",
            "\n",
            "   symmetry_worst  fractal_dimension_worst  \n",
            "0          0.4601                  0.11890  \n",
            "1          0.2750                  0.08902  \n",
            "2          0.3613                  0.08758  \n",
            "3          0.6638                  0.17300  \n",
            "4          0.2364                  0.07678  \n",
            "\n",
            "[5 rows x 32 columns]\n",
            "\n",
            "Column names: Index(['id', 'diagnosis', 'radius_mean', 'texture_mean', 'perimeter_mean',\n",
            "       'area_mean', 'smoothness_mean', 'compactness_mean', 'concavity_mean',\n",
            "       'concave points_mean', 'symmetry_mean', 'fractal_dimension_mean',\n",
            "       'radius_se', 'texture_se', 'perimeter_se', 'area_se', 'smoothness_se',\n",
            "       'compactness_se', 'concavity_se', 'concave points_se', 'symmetry_se',\n",
            "       'fractal_dimension_se', 'radius_worst', 'texture_worst',\n",
            "       'perimeter_worst', 'area_worst', 'smoothness_worst',\n",
            "       'compactness_worst', 'concavity_worst', 'concave points_worst',\n",
            "       'symmetry_worst', 'fractal_dimension_worst'],\n",
            "      dtype='object')\n",
            "\n",
            "Shape of the dataframe: (569, 32)\n"
          ]
        }
      ]
    },
    {
      "cell_type": "code",
      "source": [
        "import numpy as np\n",
        "import pandas as pd\n",
        "from sklearn.model_selection import train_test_split\n",
        "from sklearn.preprocessing import StandardScaler\n",
        "from sklearn.linear_model import LogisticRegression\n",
        "from sklearn.metrics import accuracy_score, precision_score, recall_score, f1_score, confusion_matrix\n",
        "import matplotlib.pyplot as plt\n",
        "import seaborn as sns\n",
        "\n",
        "# Assuming cancer_dataset has been imported\n",
        "\n",
        "# Splitting the data into X (features) and y (target)\n",
        "X = cancer_dataset.drop(columns=['diagnosis'])\n",
        "y = cancer_dataset['diagnosis'].map({'M': 1, 'B': 0})  # Convert M to 1 and B to 0\n",
        "\n",
        "# Splitting into training and test set (80% - 20%)\n",
        "X_train, X_test, y_train, y_test = train_test_split(X, y, test_size=0.2, random_state=42)\n",
        "\n",
        "# Scaling and standardization\n",
        "scaler = StandardScaler()\n",
        "X_train_scaled = scaler.fit_transform(X_train)\n",
        "X_test_scaled = scaler.transform(X_test)\n",
        "\n",
        "# Train the logistic regression model\n",
        "model = LogisticRegression(max_iter=10000)  # Increased max_iter for convergence\n",
        "model.fit(X_train_scaled, y_train)\n",
        "\n",
        "# Predictions\n",
        "y_pred = model.predict(X_test_scaled)\n",
        "\n",
        "# Metrics Reporting\n",
        "accuracy = accuracy_score(y_test, y_pred)\n",
        "precision = precision_score(y_test, y_pred)\n",
        "recall = recall_score(y_test, y_pred)\n",
        "f1 = f1_score(y_test, y_pred)\n",
        "\n",
        "print(f\"Accuracy: {accuracy}\")\n",
        "print(f\"Precision: {precision}\")\n",
        "print(f\"Recall: {recall}\")\n",
        "print(f\"F1 Score: {f1}\")\n",
        "\n",
        "# Plotting Confusion Matrix\n",
        "cm = confusion_matrix(y_test, y_pred)\n",
        "sns.heatmap(cm, annot=True, fmt=\"d\", cmap=\"Blues\")\n",
        "plt.xlabel('Predicted labels')\n",
        "plt.ylabel('True labels')\n",
        "plt.title('Confusion Matrix')\n",
        "plt.show()\n"
      ],
      "metadata": {
        "colab": {
          "base_uri": "https://localhost:8080/",
          "height": 541
        },
        "id": "mJbrVy2aImaQ",
        "outputId": "445b8a6a-1c0b-47ef-fbd7-c32896a86b91"
      },
      "execution_count": null,
      "outputs": [
        {
          "output_type": "stream",
          "name": "stdout",
          "text": [
            "Accuracy: 0.9736842105263158\n",
            "Precision: 0.9761904761904762\n",
            "Recall: 0.9534883720930233\n",
            "F1 Score: 0.9647058823529412\n"
          ]
        },
        {
          "output_type": "display_data",
          "data": {
            "text/plain": [
              "<Figure size 640x480 with 2 Axes>"
            ],
            "image/png": "[encoded data removed]"
          },
          "metadata": {}
        }
      ]
    },
    {
      "cell_type": "markdown",
      "source": [
        "2 B"
      ],
      "metadata": {
        "id": "UjIURQpEJiuX"
      }
    },
    {
      "cell_type": "code",
      "source": [
        "# Train the logistic regression model with L2 penalty\n",
        "model_l2 = LogisticRegression(penalty='l2', max_iter=10000)\n",
        "model_l2.fit(X_train_scaled, y_train)\n",
        "\n",
        "# Predictions with L2 model\n",
        "y_pred_l2 = model_l2.predict(X_test_scaled)\n",
        "\n",
        "# Metrics Reporting for L2 model\n",
        "accuracy_l2 = accuracy_score(y_test, y_pred_l2)\n",
        "precision_l2 = precision_score(y_test, y_pred_l2)\n",
        "recall_l2 = recall_score(y_test, y_pred_l2)\n",
        "f1_l2 = f1_score(y_test, y_pred_l2)\n",
        "\n",
        "print(\"\\nResults with L2 penalty:\")\n",
        "print(f\"Accuracy: {accuracy_l2}\")\n",
        "print(f\"Precision: {precision_l2}\")\n",
        "print(f\"Recall: {recall_l2}\")\n",
        "print(f\"F1 Score: {f1_l2}\")\n"
      ],
      "metadata": {
        "colab": {
          "base_uri": "https://localhost:8080/"
        },
        "id": "wg4PAac_ImUJ",
        "outputId": "812eb1dc-14cb-49b1-a8bb-2ae472c0d2f5"
      },
      "execution_count": null,
      "outputs": [
        {
          "output_type": "stream",
          "name": "stdout",
          "text": [
            "\n",
            "Results with L2 penalty:\n",
            "Accuracy: 0.9736842105263158\n",
            "Precision: 0.9761904761904762\n",
            "Recall: 0.9534883720930233\n",
            "F1 Score: 0.9647058823529412\n"
          ]
        }
      ]
    },
    {
      "cell_type": "markdown",
      "source": [
        "2 B"
      ],
      "metadata": {
        "id": "KGLDME1UUva3"
      }
    },
    {
      "cell_type": "code",
      "source": [
        "model_regularized = LogisticRegression(max_iter=1000, C=0.1)\n",
        "model_regularized.fit(X_train_scaled, y_train)\n",
        "y_pred_reg = model_regularized.predict(X_test_scaled)\n",
        "\n",
        "accuracy_reg = accuracy_score(y_test, y_pred_reg)\n",
        "precision_reg = precision_score(y_test, y_pred_reg)\n",
        "recall_reg = recall_score(y_test, y_pred_reg)\n",
        "f1_reg = f1_score(y_test, y_pred_reg)\n",
        "\n",
        "print(f\"Accuracy (with penalty): {accuracy_reg}\")\n",
        "print(f\"Precision (with penalty): {precision_reg}\")\n",
        "print(f\"Recall (with penalty): {recall_reg}\")\n",
        "print(f\"F1 Score (with penalty): {f1_reg}\")"
      ],
      "metadata": {
        "colab": {
          "base_uri": "https://localhost:8080/"
        },
        "id": "pCOqY4yWUx6n",
        "outputId": "27739a63-3d40-49f7-bc72-1602cda6a1da"
      },
      "execution_count": null,
      "outputs": [
        {
          "output_type": "stream",
          "name": "stdout",
          "text": [
            "Accuracy (with penalty): 0.9824561403508771\n",
            "Precision (with penalty): 1.0\n",
            "Recall (with penalty): 0.9534883720930233\n",
            "F1 Score (with penalty): 0.9761904761904763\n"
          ]
        }
      ]
    },
    {
      "cell_type": "markdown",
      "source": [
        "#Problem 3"
      ],
      "metadata": {
        "id": "7fXKNOIqVQ3z"
      }
    },
    {
      "cell_type": "markdown",
      "source": [
        "Use the cancer dataset to build a naive Bayesian model to classify the type of cancer (Malignant vs. benign). Use 80% and 20% split between training and evaluation (test). Report your classification accuracy, precision, recall, and F1 score. Explain and elaborate on your results. Can you compare your results against the logistic regression classifier you did in Problem 2."
      ],
      "metadata": {
        "id": "RKUmv2x4VWg1"
      }
    },
    {
      "cell_type": "code",
      "source": [
        "from sklearn.naive_bayes import GaussianNB\n",
        "\n",
        "# Assuming the data has already been imported and split into X_train, X_test, y_train, y_test from Part 2.\n",
        "\n",
        "# Scaling and standardization (again, for consistency)\n",
        "scaler = StandardScaler()\n",
        "X_train_scaled = scaler.fit_transform(X_train)\n",
        "X_test_scaled = scaler.transform(X_test)\n",
        "\n",
        "# Train the Naive Bayesian model\n",
        "nb_model = GaussianNB()\n",
        "nb_model.fit(X_train_scaled, y_train)\n",
        "\n",
        "# Predictions using Naive Bayes\n",
        "y_pred_nb = nb_model.predict(X_test_scaled)\n",
        "\n",
        "# Metrics Reporting for Naive Bayes\n",
        "accuracy_nb = accuracy_score(y_test, y_pred_nb)\n",
        "precision_nb = precision_score(y_test, y_pred_nb)\n",
        "recall_nb = recall_score(y_test, y_pred_nb)\n",
        "f1_nb = f1_score(y_test, y_pred_nb)\n",
        "\n",
        "print(\"Naive Bayes Classifier Metrics:\")\n",
        "print(f\"Accuracy: {accuracy_nb}\")\n",
        "print(f\"Precision: {precision_nb}\")\n",
        "print(f\"Recall: {recall_nb}\")\n",
        "print(f\"F1 Score: {f1_nb}\")\n"
      ],
      "metadata": {
        "colab": {
          "base_uri": "https://localhost:8080/"
        },
        "id": "-YFr13QyLZMa",
        "outputId": "6bc0bef1-3496-42fb-f1fe-b68ade31d901"
      },
      "execution_count": null,
      "outputs": [
        {
          "output_type": "stream",
          "name": "stdout",
          "text": [
            "Naive Bayes Classifier Metrics:\n",
            "Accuracy: 0.9649122807017544\n",
            "Precision: 0.975609756097561\n",
            "Recall: 0.9302325581395349\n",
            "F1 Score: 0.9523809523809524\n"
          ]
        }
      ]
    },
    {
      "cell_type": "code",
      "source": [
        "print(\"Comparison between Logistic Regression 1 and Naive Bayes:\\n\")\n",
        "print(f\"Accuracy: LR = {accuracy_l2}, NB = {accuracy_nb}\")\n",
        "print(f\"Precision: LR = {precision_l2}, NB = {precision_nb}\")\n",
        "print(f\"Recall: LR = {recall_l2}, NB = {recall_nb}\")\n",
        "print(f\"F1 Score: LR = {f1_l2}, NB = {f1_nb}\")"
      ],
      "metadata": {
        "colab": {
          "base_uri": "https://localhost:8080/"
        },
        "id": "IauvuMpUXvme",
        "outputId": "851da79f-8a4c-4a82-f478-98f90598801e"
      },
      "execution_count": null,
      "outputs": [
        {
          "output_type": "stream",
          "name": "stdout",
          "text": [
            "Comparison between Logistic Regression 1 and Naive Bayes:\n",
            "\n",
            "Accuracy: LR = 0.9736842105263158, NB = 0.9649122807017544\n",
            "Precision: LR = 0.9761904761904762, NB = 0.975609756097561\n",
            "Recall: LR = 0.9534883720930233, NB = 0.9302325581395349\n",
            "F1 Score: LR = 0.9647058823529412, NB = 0.9523809523809524\n"
          ]
        }
      ]
    },
    {
      "cell_type": "code",
      "source": [
        "print(\"Comparison between Logistic Regression 2 and Naive Bayes:\\n\")\n",
        "print(f\"Accuracy: LR = {accuracy_reg}, NB = {accuracy_nb}\")\n",
        "print(f\"Precision: LR = {precision_reg}, NB = {precision_nb}\")\n",
        "print(f\"Recall: LR = {recall_reg}, NB = {recall_nb}\")\n",
        "print(f\"F1 Score: LR = {f1_reg}, NB = {f1_nb}\")"
      ],
      "metadata": {
        "colab": {
          "base_uri": "https://localhost:8080/"
        },
        "id": "T-qDs9uMPH-l",
        "outputId": "4ffa7ec5-adb1-453d-9f6c-726ef1618c8a"
      },
      "execution_count": null,
      "outputs": [
        {
          "output_type": "stream",
          "name": "stdout",
          "text": [
            "Comparison between Logistic Regression 2 and Naive Bayes:\n",
            "\n",
            "Accuracy: LR = 0.9824561403508771, NB = 0.9649122807017544\n",
            "Precision: LR = 1.0, NB = 0.975609756097561\n",
            "Recall: LR = 0.9534883720930233, NB = 0.9302325581395349\n",
            "F1 Score: LR = 0.9761904761904763, NB = 0.9523809523809524\n"
          ]
        }
      ]
    },
    {
      "cell_type": "markdown",
      "source": [
        "#Problem 4"
      ],
      "metadata": {
        "id": "Nk80Pqr_WEoe"
      }
    },
    {
      "cell_type": "markdown",
      "source": [
        "Use the cancer dataset to build a logistic regression model to classify the type of cancer (Malignant vs. benign). Use the PCA feature extraction for your training. Perform N number of independent training (N=1, …, K). Identify the optimum number of K, principal components that achieve the highest classification accuracy. Report your classification accuracy, precision, recall, and F1 score over a different number of Ks. Explain and elaborate on your results and compare them against problems 2 and 3."
      ],
      "metadata": {
        "id": "Kiqa-_6SWKRh"
      }
    },
    {
      "cell_type": "code",
      "source": [
        "from sklearn.decomposition import PCA"
      ],
      "metadata": {
        "id": "cM4qug5ZNAhT"
      },
      "execution_count": null,
      "outputs": []
    },
    {
      "cell_type": "code",
      "source": [
        "from sklearn.pipeline import make_pipeline\n",
        "\n",
        "# Create a dictionary to store results for each value of K\n",
        "results = {}\n",
        "\n",
        "max_components = len(X.columns)  # Maximum possible components\n",
        "for k in range(1, max_components+1):\n",
        "    # Create a pipeline of PCA and Logistic Regression\n",
        "    pipeline = make_pipeline(StandardScaler(), PCA(n_components=k), LogisticRegression(max_iter=10000))\n",
        "\n",
        "    # Train the model\n",
        "    pipeline.fit(X_train, y_train)\n",
        "\n",
        "    # Predictions\n",
        "    y_pred = pipeline.predict(X_test)\n",
        "\n",
        "    # Storing metrics\n",
        "    accuracy = accuracy_score(y_test, y_pred)\n",
        "    precision = precision_score(y_test, y_pred)\n",
        "    recall = recall_score(y_test, y_pred)\n",
        "    f1 = f1_score(y_test, y_pred)\n",
        "\n",
        "    results[k] = {\n",
        "        \"Accuracy\": accuracy,\n",
        "        \"Precision\": precision,\n",
        "        \"Recall\": recall,\n",
        "        \"F1 Score\": f1\n",
        "    }"
      ],
      "metadata": {
        "id": "NsLeppzHNBfw"
      },
      "execution_count": null,
      "outputs": []
    },
    {
      "cell_type": "code",
      "source": [
        "optimal_k = max(results, key=lambda k: results[k]['Accuracy'])\n",
        "print(f\"Optimal number of components (K): {optimal_k}\")\n",
        "print(f\"Metrics for K={optimal_k}:\\n\", results[optimal_k])"
      ],
      "metadata": {
        "colab": {
          "base_uri": "https://localhost:8080/"
        },
        "id": "Nb-Xa8fYNAUa",
        "outputId": "22185886-03cb-48e3-fa14-dba4ba2d2021"
      },
      "execution_count": null,
      "outputs": [
        {
          "output_type": "stream",
          "name": "stdout",
          "text": [
            "Optimal number of components (K): 2\n",
            "Metrics for K=2:\n",
            " {'Accuracy': 0.9912280701754386, 'Precision': 1.0, 'Recall': 0.9767441860465116, 'F1 Score': 0.988235294117647}\n"
          ]
        }
      ]
    },
    {
      "cell_type": "code",
      "source": [
        "# Store evaluation metrics for different numbers of principal components\n",
        "accuracies = []\n",
        "precisions = []\n",
        "recalls = []\n",
        "f1_scores = []\n",
        "\n",
        "K = X_train_scaled.shape[1]  # Maximum number of principal components\n",
        "for n in range(1, K + 1):\n",
        "    pca = PCA(n_components=n)\n",
        "\n",
        "    # Create a pipeline with PCA followed by Logistic Regression\n",
        "    clf = make_pipeline(pca, LogisticRegression(max_iter=1000))\n",
        "\n",
        "    clf.fit(X_train_scaled, y_train)\n",
        "    y_pred_pca = clf.predict(X_test_scaled)\n",
        "\n",
        "    accuracies.append(accuracy_score(y_test, y_pred_pca))\n",
        "    precisions.append(precision_score(y_test, y_pred_pca))\n",
        "    recalls.append(recall_score(y_test, y_pred_pca))\n",
        "    f1_scores.append(f1_score(y_test, y_pred_pca))\n",
        "\n",
        "# Identify optimum number of components\n",
        "optimum_components = accuracies.index(max(accuracies)) + 1\n",
        "\n",
        "print(f\"Optimum number of principal components: {optimum_components}\")\n",
        "print(f\"Accuracy at optimum components: {accuracies[optimum_components - 1]}\")\n",
        "print(f\"Precision at optimum components: {precisions[optimum_components - 1]}\")\n",
        "print(f\"Recall at optimum components: {recalls[optimum_components - 1]}\")\n",
        "print(f\"F1 Score at optimum components: {f1_scores[optimum_components - 1]}\")"
      ],
      "metadata": {
        "colab": {
          "base_uri": "https://localhost:8080/"
        },
        "id": "xjOTHxFDghU5",
        "outputId": "6134a84b-94c5-4f7c-9889-3119b5e45d3c"
      },
      "execution_count": null,
      "outputs": [
        {
          "output_type": "stream",
          "name": "stdout",
          "text": [
            "Optimum number of principal components: 2\n",
            "Accuracy at optimum components: 0.9912280701754386\n",
            "Precision at optimum components: 1.0\n",
            "Recall at optimum components: 0.9767441860465116\n",
            "F1 Score at optimum components: 0.988235294117647\n"
          ]
        }
      ]
    },
    {
      "cell_type": "markdown",
      "source": [
        "#Problem 5"
      ],
      "metadata": {
        "id": "CcahjwdlW44a"
      }
    },
    {
      "cell_type": "markdown",
      "source": [
        "Can you repeat problem 4? This time, replace the logistic regression classifier with the Bayes classifier. Report your results (classification accuracy, precision, recall and F1 score). Compare your results against problems 2, 3 and 4.\n",
        "\n"
      ],
      "metadata": {
        "id": "e9hQwmXcW7J0"
      }
    },
    {
      "cell_type": "code",
      "source": [
        "# Create a dictionary to store results for PCA + Naive Bayes for each value of K\n",
        "results_nb_pca = {}\n",
        "\n",
        "max_components = X_train.shape[1]  # Maximum possible components\n",
        "for k in range(1, max_components+1):\n",
        "    # Create a pipeline of PCA and Naive Bayes\n",
        "    pipeline_nb = make_pipeline(StandardScaler(), PCA(n_components=k), GaussianNB())\n",
        "\n",
        "    # Train the model\n",
        "    pipeline_nb.fit(X_train, y_train)\n",
        "\n",
        "    # Predictions\n",
        "    y_pred_nb_pca = pipeline_nb.predict(X_test)\n",
        "\n",
        "    # Storing metrics\n",
        "    accuracy = accuracy_score(y_test, y_pred_nb_pca)\n",
        "    precision = precision_score(y_test, y_pred_nb_pca)\n",
        "    recall = recall_score(y_test, y_pred_nb_pca)\n",
        "    f1 = f1_score(y_test, y_pred_nb_pca)\n",
        "\n",
        "    results_nb_pca[k] = {\n",
        "        \"Accuracy\": accuracy,\n",
        "        \"Precision\": precision,\n",
        "        \"Recall\": recall,\n",
        "        \"F1 Score\": f1\n",
        "    }"
      ],
      "metadata": {
        "id": "AVIvbyQqQwfe"
      },
      "execution_count": null,
      "outputs": []
    },
    {
      "cell_type": "code",
      "source": [
        "optimal_k_nb = max(results_nb_pca, key=lambda k: results_nb_pca[k]['Accuracy'])\n",
        "print(f\"Optimal number of components (K) for PCA + Naive Bayes: {optimal_k_nb}\")\n",
        "print(f\"Metrics for K={optimal_k_nb}:\\n\", results_nb_pca[optimal_k_nb])"
      ],
      "metadata": {
        "colab": {
          "base_uri": "https://localhost:8080/"
        },
        "id": "MpXU4iO5Q0cc",
        "outputId": "1bddba43-c87b-48ee-9f90-0e892645f653"
      },
      "execution_count": null,
      "outputs": [
        {
          "output_type": "stream",
          "name": "stdout",
          "text": [
            "Optimal number of components (K) for PCA + Naive Bayes: 2\n",
            "Metrics for K=2:\n",
            " {'Accuracy': 0.9473684210526315, 'Precision': 0.9743589743589743, 'Recall': 0.8837209302325582, 'F1 Score': 0.9268292682926831}\n"
          ]
        }
      ]
    }
  ]
}